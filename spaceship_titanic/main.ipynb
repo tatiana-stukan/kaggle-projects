{
 "cells": [
  {
   "cell_type": "markdown",
   "source": [
    "**In this notebook, I'll be tackling the Spaceship Titanic problem, which involves predicting which passengers were transported to an alternate dimension after the spaceship collided with a spacetime anomaly. The goal is to help rescue crews and retrieve the lost passengers, using records recovered from the spaceship's damaged computer system.**"
   ],
   "metadata": {
    "collapsed": false
   }
  },
  {
   "cell_type": "markdown",
   "source": [
    "# **<span style=\"color:#4B0082;\">Library import, data reading and basic data information</span>**"
   ],
   "metadata": {
    "collapsed": false
   }
  },
  {
   "cell_type": "code",
   "execution_count": 320,
   "outputs": [],
   "source": [
    "import time\n",
    "import pandas as pd\n",
    "import seaborn as sns\n",
    "import numpy as np\n",
    "import matplotlib\n",
    "import matplotlib.pyplot as plt\n",
    "from sklearn.preprocessing import OrdinalEncoder\n",
    "from sklearn.experimental import enable_iterative_imputer\n",
    "from sklearn.impute import IterativeImputer\n",
    "from fancyimpute import KNN\n",
    "from sklearn.model_selection import train_test_split\n",
    "from sklearn.metrics import accuracy_score, precision_score, recall_score, f1_score, log_loss\n",
    "from xgboost import XGBClassifier\n",
    "from lightgbm import LGBMClassifier\n",
    "from catboost import CatBoostClassifier\n",
    "from sklearn.preprocessing import StandardScaler\n",
    "from scipy import stats\n",
    "from sklearn.model_selection import RandomizedSearchCV\n",
    "from sklearn.model_selection import StratifiedKFold\n",
    "from lazypredict.Supervised import LazyClassifier\n",
    "from sklearn.ensemble import VotingClassifier"
   ],
   "metadata": {
    "collapsed": false,
    "ExecuteTime": {
     "start_time": "2023-04-23T19:47:54.452048Z",
     "end_time": "2023-04-23T19:47:59.279321Z"
    }
   }
  },
  {
   "cell_type": "code",
   "execution_count": 321,
   "outputs": [],
   "source": [
    "import warnings\n",
    "warnings.filterwarnings('ignore')"
   ],
   "metadata": {
    "collapsed": false,
    "ExecuteTime": {
     "start_time": "2023-04-23T19:47:54.466047Z",
     "end_time": "2023-04-23T19:47:59.311347Z"
    }
   }
  },
  {
   "cell_type": "code",
   "execution_count": 322,
   "outputs": [
    {
     "data": {
      "text/plain": "[(0.8117647058823529, 0.2549019607843137, 0.5686274509803921),\n (0.3843137254901961, 0.6392156862745098, 0.1803921568627451),\n (1.0, 0.807843137254902, 0.18823529411764706),\n (0.6, 0.0, 0.6),\n (1.0, 0.6, 0.0),\n (0.0, 0.0, 1.0)]",
      "text/html": "<svg  width=\"330\" height=\"55\"><rect x=\"0\" y=\"0\" width=\"55\" height=\"55\" style=\"fill:#cf4191;stroke-width:2;stroke:rgb(255,255,255)\"/><rect x=\"55\" y=\"0\" width=\"55\" height=\"55\" style=\"fill:#62a32e;stroke-width:2;stroke:rgb(255,255,255)\"/><rect x=\"110\" y=\"0\" width=\"55\" height=\"55\" style=\"fill:#ffce30;stroke-width:2;stroke:rgb(255,255,255)\"/><rect x=\"165\" y=\"0\" width=\"55\" height=\"55\" style=\"fill:#990099;stroke-width:2;stroke:rgb(255,255,255)\"/><rect x=\"220\" y=\"0\" width=\"55\" height=\"55\" style=\"fill:#ff9900;stroke-width:2;stroke:rgb(255,255,255)\"/><rect x=\"275\" y=\"0\" width=\"55\" height=\"55\" style=\"fill:#0000ff;stroke-width:2;stroke:rgb(255,255,255)\"/></svg>"
     },
     "execution_count": 322,
     "metadata": {},
     "output_type": "execute_result"
    }
   ],
   "source": [
    "sns.set()\n",
    "sns.set(rc = {'figure.figsize':(20,10)})\n",
    "# sns.set_palette(\"PiYG\")\n",
    "sns.set_style(\"whitegrid\")\n",
    "colors = [matplotlib.colors.to_hex(sns.color_palette(\"PiYG\")[0]), matplotlib.colors.to_hex(sns.color_palette(\"PiYG\")[-1]), '#ffce30', '#990099', '#ff9900', '#0000ff']\n",
    "my_palette = sns.color_palette(colors)\n",
    "sns.set_palette(my_palette)\n",
    "my_palette"
   ],
   "metadata": {
    "collapsed": false,
    "ExecuteTime": {
     "start_time": "2023-04-23T19:47:54.503042Z",
     "end_time": "2023-04-23T19:47:59.343468Z"
    }
   }
  },
  {
   "cell_type": "code",
   "execution_count": 538,
   "outputs": [
    {
     "data": {
      "text/plain": "  PassengerId HomePlanet CryoSleep  Cabin  Destination          Age    VIP  \\\n0     0001_01     Europa     False  B/0/P  TRAPPIST-1e 39.000000000  False   \n1     0002_01      Earth     False  F/0/S  TRAPPIST-1e 24.000000000  False   \n2     0003_01     Europa     False  A/0/S  TRAPPIST-1e 58.000000000   True   \n3     0003_02     Europa     False  A/0/S  TRAPPIST-1e 33.000000000  False   \n4     0004_01      Earth     False  F/1/S  TRAPPIST-1e 16.000000000  False   \n\n    RoomService      FoodCourt  ShoppingMall            Spa        VRDeck  \\\n0   0.000000000    0.000000000   0.000000000    0.000000000   0.000000000   \n1 109.000000000    9.000000000  25.000000000  549.000000000  44.000000000   \n2  43.000000000 3576.000000000   0.000000000 6715.000000000  49.000000000   \n3   0.000000000 1283.000000000 371.000000000 3329.000000000 193.000000000   \n4 303.000000000   70.000000000 151.000000000  565.000000000   2.000000000   \n\n                Name  Transported  \n0    Maham Ofracculy        False  \n1       Juanna Vines         True  \n2      Altark Susent        False  \n3       Solam Susent        False  \n4  Willy Santantines         True  ",
      "text/html": "<div>\n<style scoped>\n    .dataframe tbody tr th:only-of-type {\n        vertical-align: middle;\n    }\n\n    .dataframe tbody tr th {\n        vertical-align: top;\n    }\n\n    .dataframe thead th {\n        text-align: right;\n    }\n</style>\n<table border=\"1\" class=\"dataframe\">\n  <thead>\n    <tr style=\"text-align: right;\">\n      <th></th>\n      <th>PassengerId</th>\n      <th>HomePlanet</th>\n      <th>CryoSleep</th>\n      <th>Cabin</th>\n      <th>Destination</th>\n      <th>Age</th>\n      <th>VIP</th>\n      <th>RoomService</th>\n      <th>FoodCourt</th>\n      <th>ShoppingMall</th>\n      <th>Spa</th>\n      <th>VRDeck</th>\n      <th>Name</th>\n      <th>Transported</th>\n    </tr>\n  </thead>\n  <tbody>\n    <tr>\n      <th>0</th>\n      <td>0001_01</td>\n      <td>Europa</td>\n      <td>False</td>\n      <td>B/0/P</td>\n      <td>TRAPPIST-1e</td>\n      <td>39.000000000</td>\n      <td>False</td>\n      <td>0.000000000</td>\n      <td>0.000000000</td>\n      <td>0.000000000</td>\n      <td>0.000000000</td>\n      <td>0.000000000</td>\n      <td>Maham Ofracculy</td>\n      <td>False</td>\n    </tr>\n    <tr>\n      <th>1</th>\n      <td>0002_01</td>\n      <td>Earth</td>\n      <td>False</td>\n      <td>F/0/S</td>\n      <td>TRAPPIST-1e</td>\n      <td>24.000000000</td>\n      <td>False</td>\n      <td>109.000000000</td>\n      <td>9.000000000</td>\n      <td>25.000000000</td>\n      <td>549.000000000</td>\n      <td>44.000000000</td>\n      <td>Juanna Vines</td>\n      <td>True</td>\n    </tr>\n    <tr>\n      <th>2</th>\n      <td>0003_01</td>\n      <td>Europa</td>\n      <td>False</td>\n      <td>A/0/S</td>\n      <td>TRAPPIST-1e</td>\n      <td>58.000000000</td>\n      <td>True</td>\n      <td>43.000000000</td>\n      <td>3576.000000000</td>\n      <td>0.000000000</td>\n      <td>6715.000000000</td>\n      <td>49.000000000</td>\n      <td>Altark Susent</td>\n      <td>False</td>\n    </tr>\n    <tr>\n      <th>3</th>\n      <td>0003_02</td>\n      <td>Europa</td>\n      <td>False</td>\n      <td>A/0/S</td>\n      <td>TRAPPIST-1e</td>\n      <td>33.000000000</td>\n      <td>False</td>\n      <td>0.000000000</td>\n      <td>1283.000000000</td>\n      <td>371.000000000</td>\n      <td>3329.000000000</td>\n      <td>193.000000000</td>\n      <td>Solam Susent</td>\n      <td>False</td>\n    </tr>\n    <tr>\n      <th>4</th>\n      <td>0004_01</td>\n      <td>Earth</td>\n      <td>False</td>\n      <td>F/1/S</td>\n      <td>TRAPPIST-1e</td>\n      <td>16.000000000</td>\n      <td>False</td>\n      <td>303.000000000</td>\n      <td>70.000000000</td>\n      <td>151.000000000</td>\n      <td>565.000000000</td>\n      <td>2.000000000</td>\n      <td>Willy Santantines</td>\n      <td>True</td>\n    </tr>\n  </tbody>\n</table>\n</div>"
     },
     "execution_count": 538,
     "metadata": {},
     "output_type": "execute_result"
    }
   ],
   "source": [
    "train_data = pd.read_csv('input/train.csv')\n",
    "train_data.head()"
   ],
   "metadata": {
    "collapsed": false,
    "ExecuteTime": {
     "start_time": "2023-04-26T13:26:10.728577Z",
     "end_time": "2023-04-26T13:26:10.828616Z"
    }
   }
  },
  {
   "cell_type": "code",
   "execution_count": 539,
   "outputs": [
    {
     "data": {
      "text/plain": "  PassengerId HomePlanet CryoSleep  Cabin  Destination          Age    VIP  \\\n0     0013_01      Earth      True  G/3/S  TRAPPIST-1e 27.000000000  False   \n1     0018_01      Earth     False  F/4/S  TRAPPIST-1e 19.000000000  False   \n2     0019_01     Europa      True  C/0/S  55 Cancri e 31.000000000  False   \n3     0021_01     Europa     False  C/1/S  TRAPPIST-1e 38.000000000  False   \n4     0023_01      Earth     False  F/5/S  TRAPPIST-1e 20.000000000  False   \n\n   RoomService      FoodCourt  ShoppingMall            Spa        VRDeck  \\\n0  0.000000000    0.000000000   0.000000000    0.000000000   0.000000000   \n1  0.000000000    9.000000000   0.000000000 2823.000000000   0.000000000   \n2  0.000000000    0.000000000   0.000000000    0.000000000   0.000000000   \n3  0.000000000 6652.000000000   0.000000000  181.000000000 585.000000000   \n4 10.000000000    0.000000000 635.000000000    0.000000000   0.000000000   \n\n               Name  \n0   Nelly Carsoning  \n1    Lerome Peckers  \n2   Sabih Unhearfus  \n3  Meratz Caltilter  \n4   Brence Harperez  ",
      "text/html": "<div>\n<style scoped>\n    .dataframe tbody tr th:only-of-type {\n        vertical-align: middle;\n    }\n\n    .dataframe tbody tr th {\n        vertical-align: top;\n    }\n\n    .dataframe thead th {\n        text-align: right;\n    }\n</style>\n<table border=\"1\" class=\"dataframe\">\n  <thead>\n    <tr style=\"text-align: right;\">\n      <th></th>\n      <th>PassengerId</th>\n      <th>HomePlanet</th>\n      <th>CryoSleep</th>\n      <th>Cabin</th>\n      <th>Destination</th>\n      <th>Age</th>\n      <th>VIP</th>\n      <th>RoomService</th>\n      <th>FoodCourt</th>\n      <th>ShoppingMall</th>\n      <th>Spa</th>\n      <th>VRDeck</th>\n      <th>Name</th>\n    </tr>\n  </thead>\n  <tbody>\n    <tr>\n      <th>0</th>\n      <td>0013_01</td>\n      <td>Earth</td>\n      <td>True</td>\n      <td>G/3/S</td>\n      <td>TRAPPIST-1e</td>\n      <td>27.000000000</td>\n      <td>False</td>\n      <td>0.000000000</td>\n      <td>0.000000000</td>\n      <td>0.000000000</td>\n      <td>0.000000000</td>\n      <td>0.000000000</td>\n      <td>Nelly Carsoning</td>\n    </tr>\n    <tr>\n      <th>1</th>\n      <td>0018_01</td>\n      <td>Earth</td>\n      <td>False</td>\n      <td>F/4/S</td>\n      <td>TRAPPIST-1e</td>\n      <td>19.000000000</td>\n      <td>False</td>\n      <td>0.000000000</td>\n      <td>9.000000000</td>\n      <td>0.000000000</td>\n      <td>2823.000000000</td>\n      <td>0.000000000</td>\n      <td>Lerome Peckers</td>\n    </tr>\n    <tr>\n      <th>2</th>\n      <td>0019_01</td>\n      <td>Europa</td>\n      <td>True</td>\n      <td>C/0/S</td>\n      <td>55 Cancri e</td>\n      <td>31.000000000</td>\n      <td>False</td>\n      <td>0.000000000</td>\n      <td>0.000000000</td>\n      <td>0.000000000</td>\n      <td>0.000000000</td>\n      <td>0.000000000</td>\n      <td>Sabih Unhearfus</td>\n    </tr>\n    <tr>\n      <th>3</th>\n      <td>0021_01</td>\n      <td>Europa</td>\n      <td>False</td>\n      <td>C/1/S</td>\n      <td>TRAPPIST-1e</td>\n      <td>38.000000000</td>\n      <td>False</td>\n      <td>0.000000000</td>\n      <td>6652.000000000</td>\n      <td>0.000000000</td>\n      <td>181.000000000</td>\n      <td>585.000000000</td>\n      <td>Meratz Caltilter</td>\n    </tr>\n    <tr>\n      <th>4</th>\n      <td>0023_01</td>\n      <td>Earth</td>\n      <td>False</td>\n      <td>F/5/S</td>\n      <td>TRAPPIST-1e</td>\n      <td>20.000000000</td>\n      <td>False</td>\n      <td>10.000000000</td>\n      <td>0.000000000</td>\n      <td>635.000000000</td>\n      <td>0.000000000</td>\n      <td>0.000000000</td>\n      <td>Brence Harperez</td>\n    </tr>\n  </tbody>\n</table>\n</div>"
     },
     "execution_count": 539,
     "metadata": {},
     "output_type": "execute_result"
    }
   ],
   "source": [
    "test_data = pd.read_csv('input/test.csv')\n",
    "test_data.head()"
   ],
   "metadata": {
    "collapsed": false,
    "ExecuteTime": {
     "start_time": "2023-04-26T13:26:14.460413Z",
     "end_time": "2023-04-26T13:26:14.512374Z"
    }
   }
  },
  {
   "cell_type": "code",
   "execution_count": 548,
   "outputs": [
    {
     "data": {
      "text/plain": "      PassengerId HomePlanet CryoSleep     Cabin    Destination          Age  \\\n0         0001_01     Europa     False     B/0/P    TRAPPIST-1e 39.000000000   \n1         0002_01      Earth     False     F/0/S    TRAPPIST-1e 24.000000000   \n2         0003_01     Europa     False     A/0/S    TRAPPIST-1e 58.000000000   \n3         0003_02     Europa     False     A/0/S    TRAPPIST-1e 33.000000000   \n4         0004_01      Earth     False     F/1/S    TRAPPIST-1e 16.000000000   \n...           ...        ...       ...       ...            ...          ...   \n12965     9266_02      Earth      True  G/1496/S    TRAPPIST-1e 34.000000000   \n12966     9269_01      Earth     False       NaN    TRAPPIST-1e 42.000000000   \n12967     9271_01       Mars      True   D/296/P    55 Cancri e          NaN   \n12968     9273_01     Europa     False   D/297/P            NaN          NaN   \n12969     9277_01      Earth      True  G/1498/S  PSO J318.5-22 43.000000000   \n\n         VIP   RoomService      FoodCourt  ShoppingMall            Spa  \\\n0      False   0.000000000    0.000000000   0.000000000    0.000000000   \n1      False 109.000000000    9.000000000  25.000000000  549.000000000   \n2       True  43.000000000 3576.000000000   0.000000000 6715.000000000   \n3      False   0.000000000 1283.000000000 371.000000000 3329.000000000   \n4      False 303.000000000   70.000000000 151.000000000  565.000000000   \n...      ...           ...            ...           ...            ...   \n12965  False   0.000000000    0.000000000   0.000000000    0.000000000   \n12966  False   0.000000000  847.000000000  17.000000000   10.000000000   \n12967  False   0.000000000    0.000000000   0.000000000    0.000000000   \n12968  False   0.000000000 2680.000000000   0.000000000    0.000000000   \n12969  False   0.000000000    0.000000000   0.000000000    0.000000000   \n\n             VRDeck               Name Transported  train  \n0       0.000000000    Maham Ofracculy       False   True  \n1      44.000000000       Juanna Vines        True   True  \n2      49.000000000      Altark Susent       False   True  \n3     193.000000000       Solam Susent       False   True  \n4       2.000000000  Willy Santantines        True   True  \n...             ...                ...         ...    ...  \n12965   0.000000000        Jeron Peter         NaN  False  \n12966 144.000000000      Matty Scheron         NaN  False  \n12967   0.000000000        Jayrin Pore         NaN  False  \n12968 523.000000000     Kitakan Conale         NaN  False  \n12969   0.000000000   Lilace Leonzaley         NaN  False  \n\n[12970 rows x 15 columns]",
      "text/html": "<div>\n<style scoped>\n    .dataframe tbody tr th:only-of-type {\n        vertical-align: middle;\n    }\n\n    .dataframe tbody tr th {\n        vertical-align: top;\n    }\n\n    .dataframe thead th {\n        text-align: right;\n    }\n</style>\n<table border=\"1\" class=\"dataframe\">\n  <thead>\n    <tr style=\"text-align: right;\">\n      <th></th>\n      <th>PassengerId</th>\n      <th>HomePlanet</th>\n      <th>CryoSleep</th>\n      <th>Cabin</th>\n      <th>Destination</th>\n      <th>Age</th>\n      <th>VIP</th>\n      <th>RoomService</th>\n      <th>FoodCourt</th>\n      <th>ShoppingMall</th>\n      <th>Spa</th>\n      <th>VRDeck</th>\n      <th>Name</th>\n      <th>Transported</th>\n      <th>train</th>\n    </tr>\n  </thead>\n  <tbody>\n    <tr>\n      <th>0</th>\n      <td>0001_01</td>\n      <td>Europa</td>\n      <td>False</td>\n      <td>B/0/P</td>\n      <td>TRAPPIST-1e</td>\n      <td>39.000000000</td>\n      <td>False</td>\n      <td>0.000000000</td>\n      <td>0.000000000</td>\n      <td>0.000000000</td>\n      <td>0.000000000</td>\n      <td>0.000000000</td>\n      <td>Maham Ofracculy</td>\n      <td>False</td>\n      <td>True</td>\n    </tr>\n    <tr>\n      <th>1</th>\n      <td>0002_01</td>\n      <td>Earth</td>\n      <td>False</td>\n      <td>F/0/S</td>\n      <td>TRAPPIST-1e</td>\n      <td>24.000000000</td>\n      <td>False</td>\n      <td>109.000000000</td>\n      <td>9.000000000</td>\n      <td>25.000000000</td>\n      <td>549.000000000</td>\n      <td>44.000000000</td>\n      <td>Juanna Vines</td>\n      <td>True</td>\n      <td>True</td>\n    </tr>\n    <tr>\n      <th>2</th>\n      <td>0003_01</td>\n      <td>Europa</td>\n      <td>False</td>\n      <td>A/0/S</td>\n      <td>TRAPPIST-1e</td>\n      <td>58.000000000</td>\n      <td>True</td>\n      <td>43.000000000</td>\n      <td>3576.000000000</td>\n      <td>0.000000000</td>\n      <td>6715.000000000</td>\n      <td>49.000000000</td>\n      <td>Altark Susent</td>\n      <td>False</td>\n      <td>True</td>\n    </tr>\n    <tr>\n      <th>3</th>\n      <td>0003_02</td>\n      <td>Europa</td>\n      <td>False</td>\n      <td>A/0/S</td>\n      <td>TRAPPIST-1e</td>\n      <td>33.000000000</td>\n      <td>False</td>\n      <td>0.000000000</td>\n      <td>1283.000000000</td>\n      <td>371.000000000</td>\n      <td>3329.000000000</td>\n      <td>193.000000000</td>\n      <td>Solam Susent</td>\n      <td>False</td>\n      <td>True</td>\n    </tr>\n    <tr>\n      <th>4</th>\n      <td>0004_01</td>\n      <td>Earth</td>\n      <td>False</td>\n      <td>F/1/S</td>\n      <td>TRAPPIST-1e</td>\n      <td>16.000000000</td>\n      <td>False</td>\n      <td>303.000000000</td>\n      <td>70.000000000</td>\n      <td>151.000000000</td>\n      <td>565.000000000</td>\n      <td>2.000000000</td>\n      <td>Willy Santantines</td>\n      <td>True</td>\n      <td>True</td>\n    </tr>\n    <tr>\n      <th>...</th>\n      <td>...</td>\n      <td>...</td>\n      <td>...</td>\n      <td>...</td>\n      <td>...</td>\n      <td>...</td>\n      <td>...</td>\n      <td>...</td>\n      <td>...</td>\n      <td>...</td>\n      <td>...</td>\n      <td>...</td>\n      <td>...</td>\n      <td>...</td>\n      <td>...</td>\n    </tr>\n    <tr>\n      <th>12965</th>\n      <td>9266_02</td>\n      <td>Earth</td>\n      <td>True</td>\n      <td>G/1496/S</td>\n      <td>TRAPPIST-1e</td>\n      <td>34.000000000</td>\n      <td>False</td>\n      <td>0.000000000</td>\n      <td>0.000000000</td>\n      <td>0.000000000</td>\n      <td>0.000000000</td>\n      <td>0.000000000</td>\n      <td>Jeron Peter</td>\n      <td>NaN</td>\n      <td>False</td>\n    </tr>\n    <tr>\n      <th>12966</th>\n      <td>9269_01</td>\n      <td>Earth</td>\n      <td>False</td>\n      <td>NaN</td>\n      <td>TRAPPIST-1e</td>\n      <td>42.000000000</td>\n      <td>False</td>\n      <td>0.000000000</td>\n      <td>847.000000000</td>\n      <td>17.000000000</td>\n      <td>10.000000000</td>\n      <td>144.000000000</td>\n      <td>Matty Scheron</td>\n      <td>NaN</td>\n      <td>False</td>\n    </tr>\n    <tr>\n      <th>12967</th>\n      <td>9271_01</td>\n      <td>Mars</td>\n      <td>True</td>\n      <td>D/296/P</td>\n      <td>55 Cancri e</td>\n      <td>NaN</td>\n      <td>False</td>\n      <td>0.000000000</td>\n      <td>0.000000000</td>\n      <td>0.000000000</td>\n      <td>0.000000000</td>\n      <td>0.000000000</td>\n      <td>Jayrin Pore</td>\n      <td>NaN</td>\n      <td>False</td>\n    </tr>\n    <tr>\n      <th>12968</th>\n      <td>9273_01</td>\n      <td>Europa</td>\n      <td>False</td>\n      <td>D/297/P</td>\n      <td>NaN</td>\n      <td>NaN</td>\n      <td>False</td>\n      <td>0.000000000</td>\n      <td>2680.000000000</td>\n      <td>0.000000000</td>\n      <td>0.000000000</td>\n      <td>523.000000000</td>\n      <td>Kitakan Conale</td>\n      <td>NaN</td>\n      <td>False</td>\n    </tr>\n    <tr>\n      <th>12969</th>\n      <td>9277_01</td>\n      <td>Earth</td>\n      <td>True</td>\n      <td>G/1498/S</td>\n      <td>PSO J318.5-22</td>\n      <td>43.000000000</td>\n      <td>False</td>\n      <td>0.000000000</td>\n      <td>0.000000000</td>\n      <td>0.000000000</td>\n      <td>0.000000000</td>\n      <td>0.000000000</td>\n      <td>Lilace Leonzaley</td>\n      <td>NaN</td>\n      <td>False</td>\n    </tr>\n  </tbody>\n</table>\n<p>12970 rows × 15 columns</p>\n</div>"
     },
     "execution_count": 548,
     "metadata": {},
     "output_type": "execute_result"
    }
   ],
   "source": [
    "train_data['train'] = True\n",
    "test_data['train'] = False\n",
    "data = pd.concat([train_data, test_data], ignore_index = True)\n",
    "data"
   ],
   "metadata": {
    "collapsed": false,
    "ExecuteTime": {
     "start_time": "2023-04-26T13:32:30.515626Z",
     "end_time": "2023-04-26T13:32:30.588636Z"
    }
   }
  },
  {
   "cell_type": "code",
   "execution_count": 549,
   "outputs": [
    {
     "data": {
      "text/plain": "  PassengerId HomePlanet CryoSleep  Destination          Age    VIP  \\\n0     0001_01     Europa     False  TRAPPIST-1e 39.000000000  False   \n1     0002_01      Earth     False  TRAPPIST-1e 24.000000000  False   \n2     0003_01     Europa     False  TRAPPIST-1e 58.000000000   True   \n3     0003_02     Europa     False  TRAPPIST-1e 33.000000000  False   \n4     0004_01      Earth     False  TRAPPIST-1e 16.000000000  False   \n\n    RoomService      FoodCourt  ShoppingMall            Spa  ...  train Group  \\\n0   0.000000000    0.000000000   0.000000000    0.000000000  ...   True     1   \n1 109.000000000    9.000000000  25.000000000  549.000000000  ...   True     2   \n2  43.000000000 3576.000000000   0.000000000 6715.000000000  ...   True     3   \n3   0.000000000 1283.000000000 371.000000000 3329.000000000  ...   True     3   \n4 303.000000000   70.000000000 151.000000000  565.000000000  ...   True     4   \n\n   Group_size      Surname  Family_size Cabin_deck  Cabin_number Cabin_side  \\\n0           1    Ofracculy            3          B   0.000000000          P   \n1           1        Vines            4          F   0.000000000          S   \n2           2       Susent            7          A   0.000000000          S   \n3           2       Susent            7          A   0.000000000          S   \n4           1  Santantines            9          F   1.000000000          S   \n\n   Cabin_deck_size Cabin_number_size  \n0             1141                 3  \n1             4239                 2  \n2              354                 4  \n3              354                 4  \n4             4239                 2  \n\n[5 rows x 22 columns]",
      "text/html": "<div>\n<style scoped>\n    .dataframe tbody tr th:only-of-type {\n        vertical-align: middle;\n    }\n\n    .dataframe tbody tr th {\n        vertical-align: top;\n    }\n\n    .dataframe thead th {\n        text-align: right;\n    }\n</style>\n<table border=\"1\" class=\"dataframe\">\n  <thead>\n    <tr style=\"text-align: right;\">\n      <th></th>\n      <th>PassengerId</th>\n      <th>HomePlanet</th>\n      <th>CryoSleep</th>\n      <th>Destination</th>\n      <th>Age</th>\n      <th>VIP</th>\n      <th>RoomService</th>\n      <th>FoodCourt</th>\n      <th>ShoppingMall</th>\n      <th>Spa</th>\n      <th>...</th>\n      <th>train</th>\n      <th>Group</th>\n      <th>Group_size</th>\n      <th>Surname</th>\n      <th>Family_size</th>\n      <th>Cabin_deck</th>\n      <th>Cabin_number</th>\n      <th>Cabin_side</th>\n      <th>Cabin_deck_size</th>\n      <th>Cabin_number_size</th>\n    </tr>\n  </thead>\n  <tbody>\n    <tr>\n      <th>0</th>\n      <td>0001_01</td>\n      <td>Europa</td>\n      <td>False</td>\n      <td>TRAPPIST-1e</td>\n      <td>39.000000000</td>\n      <td>False</td>\n      <td>0.000000000</td>\n      <td>0.000000000</td>\n      <td>0.000000000</td>\n      <td>0.000000000</td>\n      <td>...</td>\n      <td>True</td>\n      <td>1</td>\n      <td>1</td>\n      <td>Ofracculy</td>\n      <td>3</td>\n      <td>B</td>\n      <td>0.000000000</td>\n      <td>P</td>\n      <td>1141</td>\n      <td>3</td>\n    </tr>\n    <tr>\n      <th>1</th>\n      <td>0002_01</td>\n      <td>Earth</td>\n      <td>False</td>\n      <td>TRAPPIST-1e</td>\n      <td>24.000000000</td>\n      <td>False</td>\n      <td>109.000000000</td>\n      <td>9.000000000</td>\n      <td>25.000000000</td>\n      <td>549.000000000</td>\n      <td>...</td>\n      <td>True</td>\n      <td>2</td>\n      <td>1</td>\n      <td>Vines</td>\n      <td>4</td>\n      <td>F</td>\n      <td>0.000000000</td>\n      <td>S</td>\n      <td>4239</td>\n      <td>2</td>\n    </tr>\n    <tr>\n      <th>2</th>\n      <td>0003_01</td>\n      <td>Europa</td>\n      <td>False</td>\n      <td>TRAPPIST-1e</td>\n      <td>58.000000000</td>\n      <td>True</td>\n      <td>43.000000000</td>\n      <td>3576.000000000</td>\n      <td>0.000000000</td>\n      <td>6715.000000000</td>\n      <td>...</td>\n      <td>True</td>\n      <td>3</td>\n      <td>2</td>\n      <td>Susent</td>\n      <td>7</td>\n      <td>A</td>\n      <td>0.000000000</td>\n      <td>S</td>\n      <td>354</td>\n      <td>4</td>\n    </tr>\n    <tr>\n      <th>3</th>\n      <td>0003_02</td>\n      <td>Europa</td>\n      <td>False</td>\n      <td>TRAPPIST-1e</td>\n      <td>33.000000000</td>\n      <td>False</td>\n      <td>0.000000000</td>\n      <td>1283.000000000</td>\n      <td>371.000000000</td>\n      <td>3329.000000000</td>\n      <td>...</td>\n      <td>True</td>\n      <td>3</td>\n      <td>2</td>\n      <td>Susent</td>\n      <td>7</td>\n      <td>A</td>\n      <td>0.000000000</td>\n      <td>S</td>\n      <td>354</td>\n      <td>4</td>\n    </tr>\n    <tr>\n      <th>4</th>\n      <td>0004_01</td>\n      <td>Earth</td>\n      <td>False</td>\n      <td>TRAPPIST-1e</td>\n      <td>16.000000000</td>\n      <td>False</td>\n      <td>303.000000000</td>\n      <td>70.000000000</td>\n      <td>151.000000000</td>\n      <td>565.000000000</td>\n      <td>...</td>\n      <td>True</td>\n      <td>4</td>\n      <td>1</td>\n      <td>Santantines</td>\n      <td>9</td>\n      <td>F</td>\n      <td>1.000000000</td>\n      <td>S</td>\n      <td>4239</td>\n      <td>2</td>\n    </tr>\n  </tbody>\n</table>\n<p>5 rows × 22 columns</p>\n</div>"
     },
     "execution_count": 549,
     "metadata": {},
     "output_type": "execute_result"
    }
   ],
   "source": [
    "data['Group'] = data['PassengerId'].str.split('_').str[0].astype(int)\n",
    "data['Group_size']=data['Group'].apply(lambda x: data[data['Group']==x].shape[0])\n",
    "\n",
    "data.loc[data['Name'].notna(), 'Surname']=data.loc[data['Name'].notna(), 'Name'].str.split().str[-1]\n",
    "data.loc[data['Surname'].notna(), 'Family_size']=data['Surname'].loc[data['Surname'].notna()].apply(lambda x: data[data['Surname']==x].shape[0])\n",
    "data['Family_size'] = data['Family_size'].astype('Int64')\n",
    "\n",
    "data.loc[data['Cabin'].notna(), 'Cabin_deck'] = data.loc[data['Cabin'].notna(), 'Cabin'].str.split('/').str[0]\n",
    "data.loc[data['Cabin'].notna(), 'Cabin_number'] = data.loc[data['Cabin'].notna(), 'Cabin'].str.split('/').str[1].astype(int)\n",
    "data.loc[data['Cabin'].notna(), 'Cabin_side'] = data.loc[data['Cabin'].notna(), 'Cabin'].str.split('/').str[-1]\n",
    "data.loc[data['Cabin_deck'].notna(), 'Cabin_deck_size'] = data['Cabin_deck'].loc[data['Cabin_deck'].notna()].apply(lambda x: data[data['Cabin_deck']==x].shape[0])\n",
    "data['Cabin_deck_size'] = data['Cabin_deck_size'].astype('Int64')\n",
    "data.loc[data['Cabin_number'].notna(), 'Cabin_number_size'] = data.loc[data['Cabin_deck'].notna()].apply(lambda row: data[(data['Cabin_deck'] == row['Cabin_deck']) & (data['Cabin_number'] == row['Cabin_number'])].shape[0], axis=1)\n",
    "data['Cabin_number_size'] = data['Cabin_number_size'].astype('Int64')\n",
    "\n",
    "data.drop(columns=['Cabin', 'Name'], inplace=True)\n",
    "\n",
    "data.head()"
   ],
   "metadata": {
    "collapsed": false,
    "ExecuteTime": {
     "start_time": "2023-04-26T13:32:34.341466Z",
     "end_time": "2023-04-26T13:34:33.593454Z"
    }
   }
  },
  {
   "cell_type": "code",
   "execution_count": 550,
   "outputs": [],
   "source": [
    "data['TotalCosts'] = data['RoomService'] + data['FoodCourt'] + data['ShoppingMall']  + data['Spa'] + data['VRDeck']"
   ],
   "metadata": {
    "collapsed": false,
    "ExecuteTime": {
     "start_time": "2023-04-26T13:34:33.610818Z",
     "end_time": "2023-04-26T13:34:33.630955Z"
    }
   }
  },
  {
   "cell_type": "code",
   "execution_count": 543,
   "outputs": [
    {
     "data": {
      "text/plain": "120"
     },
     "execution_count": 543,
     "metadata": {},
     "output_type": "execute_result"
    }
   ],
   "source": [
    "columns_for_grouping = ['HomePlanet', 'CryoSleep', 'Destination', 'Age', 'VIP', 'RoomService', 'FoodCourt', 'ShoppingMall', 'Spa', 'VRDeck', 'Group', 'Surname', 'Cabin_deck', 'Cabin_number', 'Cabin_side', 'TotalCosts']\n",
    "couples_to_group = []\n",
    "for i in range(len(columns_for_grouping)):\n",
    "    for j in range(i+1, len(columns_for_grouping)):\n",
    "        couples_to_group.append([columns_for_grouping[i], columns_for_grouping[j]])\n",
    "len(couples_to_group)"
   ],
   "metadata": {
    "collapsed": false,
    "ExecuteTime": {
     "start_time": "2023-04-26T13:28:17.514216Z",
     "end_time": "2023-04-26T13:29:10.848385Z"
    }
   }
  },
  {
   "cell_type": "code",
   "execution_count": 545,
   "outputs": [
    {
     "name": "stdout",
     "output_type": "stream",
     "text": [
      "104\n"
     ]
    },
    {
     "data": {
      "text/plain": "3"
     },
     "execution_count": 545,
     "metadata": {},
     "output_type": "execute_result"
    }
   ],
   "source": [
    "all_unique = []\n",
    "not_all_unique = []\n",
    "counter = 0\n",
    "for index in range(len(couples_to_group)):\n",
    "    grouped_data = data.groupby([couples_to_group[index][0],couples_to_group[index][1]])[couples_to_group[index][0]].size().unstack().fillna(0)\n",
    "    if (len((grouped_data>0).sum(axis=1).unique())==1) and ((grouped_data>0).sum(axis=1).unique()[0]==1):\n",
    "        dict_groupes = {}\n",
    "        for column in grouped_data.columns:\n",
    "            dict_groupes[column] = list(grouped_data[grouped_data[column]>0].index)\n",
    "        all_unique.append([couples_to_group[index][::-1], dict_groupes])\n",
    "    elif (len((grouped_data>0).sum(axis=0).unique())==1) and ((grouped_data>0).sum(axis=0).unique()[0]==1):\n",
    "        dict_groupes = {}\n",
    "        grouped_data = grouped_data.T\n",
    "        for column in grouped_data.columns:\n",
    "            dict_groupes[column] = list(grouped_data[grouped_data[column]>0].index)\n",
    "        all_unique.append([couples_to_group[index], dict_groupes])\n",
    "    else:\n",
    "        if 1 in (grouped_data>0).sum(axis=1).unique():\n",
    "            dict_groupes = {}\n",
    "            grouped_data = grouped_data[(grouped_data>0).sum(axis=1) == 1]\n",
    "            for column in grouped_data.columns:\n",
    "                if len(list(grouped_data[grouped_data[column]>0].index))>0:\n",
    "                    dict_groupes[column] = list(grouped_data[grouped_data[column]>0].index)\n",
    "            not_all_unique.append([couples_to_group[index][::-1], dict_groupes])\n",
    "        elif 1 in (grouped_data>0).sum(axis=0).unique():\n",
    "            grouped_data = grouped_data.T\n",
    "            dict_groupes = {}\n",
    "            grouped_data = grouped_data[(grouped_data>0).sum(axis=1) == 1]\n",
    "            for column in grouped_data.columns:\n",
    "                if len(list(grouped_data[grouped_data[column]>0].index))>0:\n",
    "                    dict_groupes[column] = list(grouped_data[grouped_data[column]>0].index)\n",
    "            not_all_unique.append([couples_to_group[index], dict_groupes])\n",
    "print(len(not_all_unique))\n",
    "len(all_unique)"
   ],
   "metadata": {
    "collapsed": false,
    "ExecuteTime": {
     "start_time": "2023-04-26T13:29:43.344137Z",
     "end_time": "2023-04-26T13:31:52.305643Z"
    }
   }
  },
  {
   "cell_type": "code",
   "execution_count": 551,
   "outputs": [
    {
     "name": "stdout",
     "output_type": "stream",
     "text": [
      "> Amount of missing values in \"HomePlanet\" column before filling by \"Group\" column = 288\n",
      "After = 157\n",
      "> Amount of missing values in \"HomePlanet\" column before filling by \"Surname\" column = 157\n",
      "After = 13\n",
      "> Amount of missing values in \"Cabin_side\" column before filling by \"Group\" column = 299\n",
      "After = 162\n",
      "> Amount of missing values in \"Cabin_side\" column before filling by \"TotalCosts\" column = 162\n",
      "After = 148\n",
      "> Amount of missing values in \"TotalCosts\" column before filling by \"Cabin_number\" column = 1363\n",
      "After = 1290\n",
      "> Amount of missing values in \"Cabin_deck\" column before filling by \"TotalCosts\" column = 299\n",
      "After = 226\n",
      "> Amount of missing values in \"TotalCosts\" column before filling by \"Surname\" column = 1290\n",
      "After = 1179\n",
      "> Amount of missing values in \"Cabin_side\" column before filling by \"Surname\" column = 148\n",
      "After = 102\n",
      "> Amount of missing values in \"Cabin_number\" column before filling by \"Surname\" column = 299\n",
      "After = 270\n",
      "> Amount of missing values in \"Cabin_deck\" column before filling by \"Surname\" column = 226\n",
      "After = 189\n",
      "> Amount of missing values in \"TotalCosts\" column before filling by \"Group\" column = 1179\n",
      "After = 874\n",
      "> Amount of missing values in \"Cabin_number\" column before filling by \"Group\" column = 270\n",
      "After = 160\n",
      "> Amount of missing values in \"Cabin_deck\" column before filling by \"Group\" column = 189\n",
      "After = 109\n",
      "> Amount of missing values in \"Surname\" column before filling by \"Group\" column = 294\n",
      "After = 180\n",
      "> Amount of missing values in \"TotalCosts\" column before filling by \"VRDeck\" column = 874\n",
      "After = 828\n",
      "> Amount of missing values in \"Cabin_side\" column before filling by \"VRDeck\" column = 102\n",
      "After = 94\n",
      "> Amount of missing values in \"Cabin_number\" column before filling by \"VRDeck\" column = 160\n",
      "After = 148\n",
      "> Amount of missing values in \"Cabin_deck\" column before filling by \"VRDeck\" column = 109\n",
      "After = 104\n",
      "> Amount of missing values in \"Surname\" column before filling by \"VRDeck\" column = 180\n",
      "After = 172\n",
      "> Amount of missing values in \"TotalCosts\" column before filling by \"Spa\" column = 828\n",
      "After = 812\n",
      "> Amount of missing values in \"Cabin_side\" column before filling by \"Spa\" column = 94\n",
      "After = 88\n",
      "> Amount of missing values in \"Cabin_number\" column before filling by \"Spa\" column = 148\n",
      "After = 142\n",
      "> Amount of missing values in \"Cabin_deck\" column before filling by \"Spa\" column = 104\n",
      "After = 102\n",
      "> Amount of missing values in \"Surname\" column before filling by \"Spa\" column = 172\n",
      "After = 163\n",
      "> Amount of missing values in \"VRDeck\" column before filling by \"Spa\" column = 268\n",
      "After = 260\n",
      "> Amount of missing values in \"TotalCosts\" column before filling by \"ShoppingMall\" column = 812\n",
      "After = 777\n",
      "> Amount of missing values in \"Cabin_side\" column before filling by \"ShoppingMall\" column = 88\n",
      "After = 79\n",
      "> Amount of missing values in \"Cabin_number\" column before filling by \"ShoppingMall\" column = 142\n",
      "After = 135\n",
      "> Amount of missing values in \"Cabin_deck\" column before filling by \"ShoppingMall\" column = 102\n",
      "After = 92\n",
      "> Amount of missing values in \"Surname\" column before filling by \"ShoppingMall\" column = 163\n",
      "After = 157\n",
      "> Amount of missing values in \"VRDeck\" column before filling by \"ShoppingMall\" column = 260\n",
      "After = 244\n",
      "> Amount of missing values in \"Spa\" column before filling by \"ShoppingMall\" column = 284\n",
      "After = 266\n",
      "> Amount of missing values in \"TotalCosts\" column before filling by \"FoodCourt\" column = 777\n",
      "After = 742\n",
      "> Amount of missing values in \"Cabin_side\" column before filling by \"FoodCourt\" column = 79\n",
      "After = 73\n",
      "> Amount of missing values in \"Cabin_number\" column before filling by \"FoodCourt\" column = 135\n",
      "After = 130\n",
      "> Amount of missing values in \"Cabin_deck\" column before filling by \"FoodCourt\" column = 92\n",
      "After = 87\n",
      "> Amount of missing values in \"Surname\" column before filling by \"FoodCourt\" column = 157\n",
      "After = 143\n",
      "> Amount of missing values in \"VRDeck\" column before filling by \"FoodCourt\" column = 244\n",
      "After = 232\n",
      "> Amount of missing values in \"Spa\" column before filling by \"FoodCourt\" column = 266\n",
      "After = 249\n",
      "> Amount of missing values in \"ShoppingMall\" column before filling by \"FoodCourt\" column = 306\n",
      "After = 290\n",
      "> Amount of missing values in \"TotalCosts\" column before filling by \"RoomService\" column = 742\n",
      "After = 715\n",
      "> Amount of missing values in \"Cabin_side\" column before filling by \"RoomService\" column = 73\n",
      "After = 68\n",
      "> Amount of missing values in \"Cabin_number\" column before filling by \"RoomService\" column = 130\n",
      "After = 125\n",
      "> Amount of missing values in \"Cabin_deck\" column before filling by \"RoomService\" column = 87\n",
      "After = 84\n",
      "> Amount of missing values in \"Surname\" column before filling by \"RoomService\" column = 143\n",
      "After = 134\n",
      "> Amount of missing values in \"VRDeck\" column before filling by \"RoomService\" column = 232\n",
      "After = 218\n",
      "> Amount of missing values in \"Spa\" column before filling by \"RoomService\" column = 249\n",
      "After = 228\n",
      "> Amount of missing values in \"ShoppingMall\" column before filling by \"RoomService\" column = 290\n",
      "After = 276\n",
      "> Amount of missing values in \"FoodCourt\" column before filling by \"RoomService\" column = 289\n",
      "After = 268\n",
      "> Amount of missing values in \"VIP\" column before filling by \"TotalCosts\" column = 296\n",
      "After = 187\n",
      "> Amount of missing values in \"VIP\" column before filling by \"Cabin_number\" column = 187\n",
      "After = 53\n",
      "> Amount of missing values in \"VIP\" column before filling by \"Cabin_deck\" column = 53\n",
      "After = 45\n",
      "> Amount of missing values in \"VIP\" column before filling by \"Surname\" column = 45\n",
      "After = 14\n",
      "> Amount of missing values in \"VIP\" column before filling by \"Group\" column = 14\n",
      "After = 10\n",
      "> Amount of missing values in \"VIP\" column before filling by \"Spa\" column = 10\n",
      "After = 9\n",
      "> Amount of missing values in \"TotalCosts\" column before filling by \"Age\" column = 715\n",
      "After = 638\n",
      "> Amount of missing values in \"Age\" column before filling by \"Cabin_number\" column = 270\n",
      "After = 263\n",
      "> Amount of missing values in \"Age\" column before filling by \"Surname\" column = 263\n",
      "After = 250\n",
      "> Amount of missing values in \"Age\" column before filling by \"Group\" column = 250\n",
      "After = 196\n",
      "> Amount of missing values in \"VRDeck\" column before filling by \"Age\" column = 218\n",
      "After = 183\n",
      "> Amount of missing values in \"Spa\" column before filling by \"Age\" column = 228\n",
      "After = 206\n",
      "> Amount of missing values in \"ShoppingMall\" column before filling by \"Age\" column = 276\n",
      "After = 250\n",
      "> Amount of missing values in \"FoodCourt\" column before filling by \"Age\" column = 268\n",
      "After = 248\n",
      "> Amount of missing values in \"RoomService\" column before filling by \"Age\" column = 263\n",
      "After = 235\n",
      "> Amount of missing values in \"VIP\" column before filling by \"Age\" column = 9\n",
      "After = 8\n",
      "> Amount of missing values in \"Destination\" column before filling by \"TotalCosts\" column = 274\n",
      "After = 197\n",
      "> Amount of missing values in \"Destination\" column before filling by \"Cabin_number\" column = 197\n",
      "After = 159\n",
      "> Amount of missing values in \"Destination\" column before filling by \"Surname\" column = 159\n",
      "After = 132\n",
      "> Amount of missing values in \"Destination\" column before filling by \"Group\" column = 132\n",
      "After = 88\n",
      "> Amount of missing values in \"Destination\" column before filling by \"VRDeck\" column = 88\n",
      "After = 75\n",
      "> Amount of missing values in \"Destination\" column before filling by \"Spa\" column = 75\n",
      "After = 69\n",
      "> Amount of missing values in \"Destination\" column before filling by \"ShoppingMall\" column = 69\n",
      "After = 62\n",
      "> Amount of missing values in \"Destination\" column before filling by \"FoodCourt\" column = 62\n",
      "After = 58\n",
      "> Amount of missing values in \"Destination\" column before filling by \"RoomService\" column = 58\n",
      "After = 54\n",
      "> Amount of missing values in \"Destination\" column before filling by \"Age\" column = 54\n",
      "After = 53\n",
      "> Amount of missing values in \"TotalCosts\" column before filling by \"CryoSleep\" column = 638\n",
      "After = 357\n",
      "> Amount of missing values in \"CryoSleep\" column before filling by \"Cabin_number\" column = 310\n",
      "After = 273\n",
      "> Amount of missing values in \"CryoSleep\" column before filling by \"Cabin_deck\" column = 273\n",
      "After = 272\n",
      "> Amount of missing values in \"CryoSleep\" column before filling by \"Surname\" column = 272\n",
      "After = 221\n",
      "> Amount of missing values in \"CryoSleep\" column before filling by \"Group\" column = 221\n",
      "After = 156\n",
      "> Amount of missing values in \"VRDeck\" column before filling by \"CryoSleep\" column = 183\n",
      "After = 100\n",
      "> Amount of missing values in \"Spa\" column before filling by \"CryoSleep\" column = 206\n",
      "After = 110\n",
      "> Amount of missing values in \"ShoppingMall\" column before filling by \"CryoSleep\" column = 250\n",
      "After = 133\n",
      "> Amount of missing values in \"FoodCourt\" column before filling by \"CryoSleep\" column = 248\n",
      "After = 150\n",
      "> Amount of missing values in \"RoomService\" column before filling by \"CryoSleep\" column = 235\n",
      "After = 162\n",
      "> Amount of missing values in \"HomePlanet\" column before filling by \"TotalCosts\" column = 13\n",
      "After = 11\n",
      "> Amount of missing values in \"HomePlanet\" column before filling by \"Cabin_number\" column = 11\n",
      "After = 9\n",
      "> Amount of missing values in \"HomePlanet\" column before filling by \"Cabin_deck\" column = 9\n",
      "After = 6\n",
      "> Amount of missing values in \"HomePlanet\" column before filling by \"Spa\" column = 6\n",
      "After = 5\n",
      "> Amount of missing values in \"HomePlanet\" column before filling by \"ShoppingMall\" column = 5\n",
      "After = 4\n"
     ]
    }
   ],
   "source": [
    "for two_columns in all_unique:\n",
    "    old_amount = data[two_columns[0][0]].isna().sum()\n",
    "    for key in two_columns[1].keys():\n",
    "        data.loc[(data[two_columns[0][0]].isna())&(data[two_columns[0][1]].isin(two_columns[1][key])), two_columns[0][0]] = key\n",
    "    new_amount = data[two_columns[0][0]].isna().sum()\n",
    "    if new_amount < old_amount:\n",
    "        print(f'> Amount of missing values in \"{two_columns[0][0]}\" column before filling by \"{two_columns[0][1]}\" column = {old_amount}')\n",
    "        print(f'After = {new_amount}')\n",
    "\n",
    "for two_columns in not_all_unique[::-1]:\n",
    "    old_amount = data[two_columns[0][0]].isna().sum()\n",
    "    for key in two_columns[1].keys():\n",
    "        data.loc[(data[two_columns[0][0]].isna())&(data[two_columns[0][1]].isin(two_columns[1][key])), two_columns[0][0]] = key\n",
    "    new_amount = data[two_columns[0][0]].isna().sum()\n",
    "    if new_amount < old_amount:\n",
    "        print(f'> Amount of missing values in \"{two_columns[0][0]}\" column before filling by \"{two_columns[0][1]}\" column = {old_amount}')\n",
    "        print(f'After = {new_amount}')"
   ],
   "metadata": {
    "collapsed": false,
    "ExecuteTime": {
     "start_time": "2023-04-26T13:34:33.627954Z",
     "end_time": "2023-04-26T13:35:08.633616Z"
    }
   }
  },
  {
   "cell_type": "code",
   "execution_count": 552,
   "outputs": [],
   "source": [
    "data_original = data.copy()\n",
    "imputer = IterativeImputer(random_state = 18)\n",
    "columns = ['Age', 'RoomService', 'FoodCourt', 'ShoppingMall', 'Spa', 'VRDeck']\n",
    "imputed = imputer.fit_transform(data[columns])\n",
    "data[columns] = pd.DataFrame(np.round(imputed), columns=columns)\n",
    "data['TotalCosts'] = data['RoomService'] + data['FoodCourt'] + data['ShoppingMall']  + data['Spa'] + data['VRDeck']"
   ],
   "metadata": {
    "collapsed": false,
    "ExecuteTime": {
     "start_time": "2023-04-26T13:35:08.641245Z",
     "end_time": "2023-04-26T13:35:09.029619Z"
    }
   }
  },
  {
   "cell_type": "code",
   "execution_count": 555,
   "outputs": [],
   "source": [
    "encoder = OrdinalEncoder()\n",
    "imputer = IterativeImputer(random_state = 18)\n",
    "\n",
    "cat_cols = ['HomePlanet','CryoSleep','Destination','VIP','Surname', 'Cabin_deck', 'Cabin_side']\n",
    "\n",
    "def encode(data):\n",
    "    nonulls = np.array(data.dropna())\n",
    "    impute_reshape = nonulls.reshape(-1,1)\n",
    "    impute_ordinal = encoder.fit_transform(impute_reshape)\n",
    "    data.loc[data.notnull()] = np.squeeze(impute_ordinal)\n",
    "    return data\n",
    "\n",
    "#create a for loop to iterate through each column in the data\n",
    "for columns in cat_cols:\n",
    "    encode(data[columns])"
   ],
   "metadata": {
    "collapsed": false,
    "ExecuteTime": {
     "start_time": "2023-04-26T13:36:27.300370Z",
     "end_time": "2023-04-26T13:36:27.996369Z"
    }
   }
  },
  {
   "cell_type": "code",
   "execution_count": 556,
   "outputs": [],
   "source": [
    "data = pd.DataFrame(np.round(imputer.fit_transform(data)),columns = data.columns)\n",
    "data['PassengerId'] = data_original['PassengerId']"
   ],
   "metadata": {
    "collapsed": false,
    "ExecuteTime": {
     "start_time": "2023-04-26T13:36:31.090197Z",
     "end_time": "2023-04-26T13:36:32.623236Z"
    }
   }
  },
  {
   "cell_type": "code",
   "execution_count": 557,
   "outputs": [],
   "source": [
    "data.loc[data['Surname'].notna(), 'Family_size']=data['Surname'].loc[data['Surname'].notna()].apply(lambda x: data[data['Surname']==x].shape[0])\n",
    "data['Family_size'] = data['Family_size'].astype('int64')\n",
    "data.loc[data['Cabin_deck'].notna(), 'Cabin_deck_size'] = data['Cabin_deck'].loc[data['Cabin_deck'].notna()].apply(lambda x: data[data['Cabin_deck']==x].shape[0])\n",
    "data['Cabin_deck_size'] = data['Cabin_deck_size'].astype('int64')\n",
    "data.loc[data['Cabin_number'].notna(), 'Cabin_number_size'] = data.loc[data['Cabin_deck'].notna()].apply(lambda row: data[(data['Cabin_deck'] == row['Cabin_deck']) & (data['Cabin_number'] == row['Cabin_number'])].shape[0], axis=1)\n",
    "data['Cabin_number_size'] = data['Cabin_number_size'].astype('int64')"
   ],
   "metadata": {
    "collapsed": false,
    "ExecuteTime": {
     "start_time": "2023-04-26T13:36:34.975364Z",
     "end_time": "2023-04-26T13:37:12.094149Z"
    }
   }
  },
  {
   "cell_type": "code",
   "execution_count": 558,
   "outputs": [
    {
     "data": {
      "text/plain": "PassengerId          0\nHomePlanet           0\nCryoSleep            0\nDestination          0\nAge                  0\nVIP                  0\nRoomService          0\nFoodCourt            0\nShoppingMall         0\nSpa                  0\nVRDeck               0\nTransported          0\ntrain                0\nGroup                0\nGroup_size           0\nSurname              0\nFamily_size          0\nCabin_deck           0\nCabin_number         0\nCabin_side           0\nCabin_deck_size      0\nCabin_number_size    0\nTotalCosts           0\ndtype: int64"
     },
     "execution_count": 558,
     "metadata": {},
     "output_type": "execute_result"
    }
   ],
   "source": [
    "data.isna().sum()"
   ],
   "metadata": {
    "collapsed": false,
    "ExecuteTime": {
     "start_time": "2023-04-26T13:37:11.818166Z",
     "end_time": "2023-04-26T13:37:12.094149Z"
    }
   }
  },
  {
   "cell_type": "code",
   "execution_count": 559,
   "outputs": [],
   "source": [
    "data['Adult'] = 1\n",
    "data.loc[data['Age']<18, 'Adult'] = 0"
   ],
   "metadata": {
    "collapsed": false,
    "ExecuteTime": {
     "start_time": "2023-04-26T13:37:11.854151Z",
     "end_time": "2023-04-26T13:37:12.094149Z"
    }
   }
  },
  {
   "cell_type": "code",
   "execution_count": 560,
   "outputs": [],
   "source": [
    "data['AgeGroup'] = data['Age'] // 10"
   ],
   "metadata": {
    "collapsed": false,
    "ExecuteTime": {
     "start_time": "2023-04-26T13:37:11.865150Z",
     "end_time": "2023-04-26T13:37:12.094149Z"
    }
   }
  },
  {
   "cell_type": "code",
   "execution_count": 561,
   "outputs": [],
   "source": [
    "data['ZeroExpenses'] = 1\n",
    "data.loc[data['TotalCosts'] > 0, 'ZeroExpenses'] = 0"
   ],
   "metadata": {
    "collapsed": false,
    "ExecuteTime": {
     "start_time": "2023-04-26T13:37:11.883152Z",
     "end_time": "2023-04-26T13:37:12.094149Z"
    }
   }
  },
  {
   "cell_type": "code",
   "execution_count": 565,
   "outputs": [
    {
     "data": {
      "text/plain": "  PassengerId  HomePlanet   CryoSleep  Destination          Age         VIP  \\\n0     0001_01 1.000000000 0.000000000  2.000000000 39.000000000 0.000000000   \n1     0002_01 0.000000000 0.000000000  2.000000000 24.000000000 0.000000000   \n2     0003_01 1.000000000 0.000000000  2.000000000 58.000000000 1.000000000   \n3     0003_02 1.000000000 0.000000000  2.000000000 33.000000000 0.000000000   \n4     0004_01 0.000000000 0.000000000  2.000000000 16.000000000 0.000000000   \n\n    RoomService      FoodCourt  ShoppingMall            Spa  ...  Family_size  \\\n0   0.000000000    0.000000000   0.000000000    0.000000000  ...            4   \n1 109.000000000    9.000000000  25.000000000  549.000000000  ...            4   \n2  43.000000000 3576.000000000   0.000000000 6715.000000000  ...            7   \n3   0.000000000 1283.000000000 371.000000000 3329.000000000  ...            7   \n4 303.000000000   70.000000000 151.000000000  565.000000000  ...            9   \n\n   Cabin_deck  Cabin_number  Cabin_side  Cabin_deck_size  Cabin_number_size  \\\n0 1.000000000   0.000000000 0.000000000             1168                  4   \n1 5.000000000   0.000000000 1.000000000             4365                  2   \n2 0.000000000   0.000000000 1.000000000              361                  4   \n3 0.000000000   0.000000000 1.000000000              361                  4   \n4 5.000000000   1.000000000 1.000000000             4365                  2   \n\n       TotalCosts  Adult    AgeGroup  ZeroExpenses  \n0     0.000000000      1 3.000000000             1  \n1   736.000000000      1 2.000000000             0  \n2 10383.000000000      1 5.000000000             0  \n3  5176.000000000      1 3.000000000             0  \n4  1091.000000000      0 1.000000000             0  \n\n[5 rows x 25 columns]",
      "text/html": "<div>\n<style scoped>\n    .dataframe tbody tr th:only-of-type {\n        vertical-align: middle;\n    }\n\n    .dataframe tbody tr th {\n        vertical-align: top;\n    }\n\n    .dataframe thead th {\n        text-align: right;\n    }\n</style>\n<table border=\"1\" class=\"dataframe\">\n  <thead>\n    <tr style=\"text-align: right;\">\n      <th></th>\n      <th>PassengerId</th>\n      <th>HomePlanet</th>\n      <th>CryoSleep</th>\n      <th>Destination</th>\n      <th>Age</th>\n      <th>VIP</th>\n      <th>RoomService</th>\n      <th>FoodCourt</th>\n      <th>ShoppingMall</th>\n      <th>Spa</th>\n      <th>...</th>\n      <th>Family_size</th>\n      <th>Cabin_deck</th>\n      <th>Cabin_number</th>\n      <th>Cabin_side</th>\n      <th>Cabin_deck_size</th>\n      <th>Cabin_number_size</th>\n      <th>TotalCosts</th>\n      <th>Adult</th>\n      <th>AgeGroup</th>\n      <th>ZeroExpenses</th>\n    </tr>\n  </thead>\n  <tbody>\n    <tr>\n      <th>0</th>\n      <td>0001_01</td>\n      <td>1.000000000</td>\n      <td>0.000000000</td>\n      <td>2.000000000</td>\n      <td>39.000000000</td>\n      <td>0.000000000</td>\n      <td>0.000000000</td>\n      <td>0.000000000</td>\n      <td>0.000000000</td>\n      <td>0.000000000</td>\n      <td>...</td>\n      <td>4</td>\n      <td>1.000000000</td>\n      <td>0.000000000</td>\n      <td>0.000000000</td>\n      <td>1168</td>\n      <td>4</td>\n      <td>0.000000000</td>\n      <td>1</td>\n      <td>3.000000000</td>\n      <td>1</td>\n    </tr>\n    <tr>\n      <th>1</th>\n      <td>0002_01</td>\n      <td>0.000000000</td>\n      <td>0.000000000</td>\n      <td>2.000000000</td>\n      <td>24.000000000</td>\n      <td>0.000000000</td>\n      <td>109.000000000</td>\n      <td>9.000000000</td>\n      <td>25.000000000</td>\n      <td>549.000000000</td>\n      <td>...</td>\n      <td>4</td>\n      <td>5.000000000</td>\n      <td>0.000000000</td>\n      <td>1.000000000</td>\n      <td>4365</td>\n      <td>2</td>\n      <td>736.000000000</td>\n      <td>1</td>\n      <td>2.000000000</td>\n      <td>0</td>\n    </tr>\n    <tr>\n      <th>2</th>\n      <td>0003_01</td>\n      <td>1.000000000</td>\n      <td>0.000000000</td>\n      <td>2.000000000</td>\n      <td>58.000000000</td>\n      <td>1.000000000</td>\n      <td>43.000000000</td>\n      <td>3576.000000000</td>\n      <td>0.000000000</td>\n      <td>6715.000000000</td>\n      <td>...</td>\n      <td>7</td>\n      <td>0.000000000</td>\n      <td>0.000000000</td>\n      <td>1.000000000</td>\n      <td>361</td>\n      <td>4</td>\n      <td>10383.000000000</td>\n      <td>1</td>\n      <td>5.000000000</td>\n      <td>0</td>\n    </tr>\n    <tr>\n      <th>3</th>\n      <td>0003_02</td>\n      <td>1.000000000</td>\n      <td>0.000000000</td>\n      <td>2.000000000</td>\n      <td>33.000000000</td>\n      <td>0.000000000</td>\n      <td>0.000000000</td>\n      <td>1283.000000000</td>\n      <td>371.000000000</td>\n      <td>3329.000000000</td>\n      <td>...</td>\n      <td>7</td>\n      <td>0.000000000</td>\n      <td>0.000000000</td>\n      <td>1.000000000</td>\n      <td>361</td>\n      <td>4</td>\n      <td>5176.000000000</td>\n      <td>1</td>\n      <td>3.000000000</td>\n      <td>0</td>\n    </tr>\n    <tr>\n      <th>4</th>\n      <td>0004_01</td>\n      <td>0.000000000</td>\n      <td>0.000000000</td>\n      <td>2.000000000</td>\n      <td>16.000000000</td>\n      <td>0.000000000</td>\n      <td>303.000000000</td>\n      <td>70.000000000</td>\n      <td>151.000000000</td>\n      <td>565.000000000</td>\n      <td>...</td>\n      <td>9</td>\n      <td>5.000000000</td>\n      <td>1.000000000</td>\n      <td>1.000000000</td>\n      <td>4365</td>\n      <td>2</td>\n      <td>1091.000000000</td>\n      <td>0</td>\n      <td>1.000000000</td>\n      <td>0</td>\n    </tr>\n  </tbody>\n</table>\n<p>5 rows × 25 columns</p>\n</div>"
     },
     "execution_count": 565,
     "metadata": {},
     "output_type": "execute_result"
    }
   ],
   "source": [
    "train_data = data[data['train'] == True]\n",
    "test_data = data[data['train'] == False]\n",
    "train_data.drop(columns = ['train'], inplace = True)\n",
    "test_data.drop(columns = ['Transported', 'train'], inplace = True)\n",
    "train_data.head()"
   ],
   "metadata": {
    "collapsed": false,
    "ExecuteTime": {
     "start_time": "2023-04-26T13:38:22.655726Z",
     "end_time": "2023-04-26T13:38:22.764328Z"
    }
   }
  },
  {
   "cell_type": "code",
   "execution_count": 566,
   "outputs": [
    {
     "data": {
      "text/plain": "  PassengerId  HomePlanet   CryoSleep  Destination          Age         VIP  \\\n0     0001_01 1.000000000 0.000000000  2.000000000 39.000000000 0.000000000   \n1     0002_01 0.000000000 0.000000000  2.000000000 24.000000000 0.000000000   \n2     0003_01 1.000000000 0.000000000  2.000000000 58.000000000 1.000000000   \n3     0003_02 1.000000000 0.000000000  2.000000000 33.000000000 0.000000000   \n4     0004_01 0.000000000 0.000000000  2.000000000 16.000000000 0.000000000   \n\n    RoomService      FoodCourt  ShoppingMall            Spa  ...  Family_size  \\\n0   0.000000000    0.000000000   0.000000000    0.000000000  ...            4   \n1 109.000000000    9.000000000  25.000000000  549.000000000  ...            4   \n2  43.000000000 3576.000000000   0.000000000 6715.000000000  ...            7   \n3   0.000000000 1283.000000000 371.000000000 3329.000000000  ...            7   \n4 303.000000000   70.000000000 151.000000000  565.000000000  ...            9   \n\n   Cabin_deck  Cabin_number  Cabin_side  Cabin_deck_size  Cabin_number_size  \\\n0 1.000000000   0.000000000 0.000000000             1168                  4   \n1 5.000000000   0.000000000 1.000000000             4365                  2   \n2 0.000000000   0.000000000 1.000000000              361                  4   \n3 0.000000000   0.000000000 1.000000000              361                  4   \n4 5.000000000   1.000000000 1.000000000             4365                  2   \n\n       TotalCosts  Adult    AgeGroup  ZeroExpenses  \n0     0.000000000      1 3.000000000             1  \n1   736.000000000      1 2.000000000             0  \n2 10383.000000000      1 5.000000000             0  \n3  5176.000000000      1 3.000000000             0  \n4  1091.000000000      0 1.000000000             0  \n\n[5 rows x 25 columns]",
      "text/html": "<div>\n<style scoped>\n    .dataframe tbody tr th:only-of-type {\n        vertical-align: middle;\n    }\n\n    .dataframe tbody tr th {\n        vertical-align: top;\n    }\n\n    .dataframe thead th {\n        text-align: right;\n    }\n</style>\n<table border=\"1\" class=\"dataframe\">\n  <thead>\n    <tr style=\"text-align: right;\">\n      <th></th>\n      <th>PassengerId</th>\n      <th>HomePlanet</th>\n      <th>CryoSleep</th>\n      <th>Destination</th>\n      <th>Age</th>\n      <th>VIP</th>\n      <th>RoomService</th>\n      <th>FoodCourt</th>\n      <th>ShoppingMall</th>\n      <th>Spa</th>\n      <th>...</th>\n      <th>Family_size</th>\n      <th>Cabin_deck</th>\n      <th>Cabin_number</th>\n      <th>Cabin_side</th>\n      <th>Cabin_deck_size</th>\n      <th>Cabin_number_size</th>\n      <th>TotalCosts</th>\n      <th>Adult</th>\n      <th>AgeGroup</th>\n      <th>ZeroExpenses</th>\n    </tr>\n  </thead>\n  <tbody>\n    <tr>\n      <th>0</th>\n      <td>0001_01</td>\n      <td>1.000000000</td>\n      <td>0.000000000</td>\n      <td>2.000000000</td>\n      <td>39.000000000</td>\n      <td>0.000000000</td>\n      <td>0.000000000</td>\n      <td>0.000000000</td>\n      <td>0.000000000</td>\n      <td>0.000000000</td>\n      <td>...</td>\n      <td>4</td>\n      <td>1.000000000</td>\n      <td>0.000000000</td>\n      <td>0.000000000</td>\n      <td>1168</td>\n      <td>4</td>\n      <td>0.000000000</td>\n      <td>1</td>\n      <td>3.000000000</td>\n      <td>1</td>\n    </tr>\n    <tr>\n      <th>1</th>\n      <td>0002_01</td>\n      <td>0.000000000</td>\n      <td>0.000000000</td>\n      <td>2.000000000</td>\n      <td>24.000000000</td>\n      <td>0.000000000</td>\n      <td>109.000000000</td>\n      <td>9.000000000</td>\n      <td>25.000000000</td>\n      <td>549.000000000</td>\n      <td>...</td>\n      <td>4</td>\n      <td>5.000000000</td>\n      <td>0.000000000</td>\n      <td>1.000000000</td>\n      <td>4365</td>\n      <td>2</td>\n      <td>736.000000000</td>\n      <td>1</td>\n      <td>2.000000000</td>\n      <td>0</td>\n    </tr>\n    <tr>\n      <th>2</th>\n      <td>0003_01</td>\n      <td>1.000000000</td>\n      <td>0.000000000</td>\n      <td>2.000000000</td>\n      <td>58.000000000</td>\n      <td>1.000000000</td>\n      <td>43.000000000</td>\n      <td>3576.000000000</td>\n      <td>0.000000000</td>\n      <td>6715.000000000</td>\n      <td>...</td>\n      <td>7</td>\n      <td>0.000000000</td>\n      <td>0.000000000</td>\n      <td>1.000000000</td>\n      <td>361</td>\n      <td>4</td>\n      <td>10383.000000000</td>\n      <td>1</td>\n      <td>5.000000000</td>\n      <td>0</td>\n    </tr>\n    <tr>\n      <th>3</th>\n      <td>0003_02</td>\n      <td>1.000000000</td>\n      <td>0.000000000</td>\n      <td>2.000000000</td>\n      <td>33.000000000</td>\n      <td>0.000000000</td>\n      <td>0.000000000</td>\n      <td>1283.000000000</td>\n      <td>371.000000000</td>\n      <td>3329.000000000</td>\n      <td>...</td>\n      <td>7</td>\n      <td>0.000000000</td>\n      <td>0.000000000</td>\n      <td>1.000000000</td>\n      <td>361</td>\n      <td>4</td>\n      <td>5176.000000000</td>\n      <td>1</td>\n      <td>3.000000000</td>\n      <td>0</td>\n    </tr>\n    <tr>\n      <th>4</th>\n      <td>0004_01</td>\n      <td>0.000000000</td>\n      <td>0.000000000</td>\n      <td>2.000000000</td>\n      <td>16.000000000</td>\n      <td>0.000000000</td>\n      <td>303.000000000</td>\n      <td>70.000000000</td>\n      <td>151.000000000</td>\n      <td>565.000000000</td>\n      <td>...</td>\n      <td>9</td>\n      <td>5.000000000</td>\n      <td>1.000000000</td>\n      <td>1.000000000</td>\n      <td>4365</td>\n      <td>2</td>\n      <td>1091.000000000</td>\n      <td>0</td>\n      <td>1.000000000</td>\n      <td>0</td>\n    </tr>\n  </tbody>\n</table>\n<p>5 rows × 25 columns</p>\n</div>"
     },
     "execution_count": 566,
     "metadata": {},
     "output_type": "execute_result"
    }
   ],
   "source": [
    "train_data['Transported'] = train_data['Transported'].astype(int)\n",
    "\n",
    "X = train_data.drop(columns = ['PassengerId', 'Transported'])\n",
    "y = train_data['Transported']\n",
    "\n",
    "\n",
    "X_train, X_valid, y_train, y_valid = train_test_split(X, y, random_state = 18, test_size = 0.2)\n",
    "train_data.head()"
   ],
   "metadata": {
    "collapsed": false,
    "ExecuteTime": {
     "start_time": "2023-04-26T13:38:24.189164Z",
     "end_time": "2023-04-26T13:38:24.297163Z"
    }
   }
  },
  {
   "cell_type": "code",
   "execution_count": 568,
   "outputs": [
    {
     "name": "stdout",
     "output_type": "stream",
     "text": [
      "XGB table time: 469.91160893440247\n"
     ]
    },
    {
     "data": {
      "text/plain": "     n_estimators   max_depth learning_rate       gamma train_accuracy  \\\n549 225.000000000 6.000000000   0.100000000 0.250000000    0.947656025   \n485 225.000000000 4.000000000   0.500000000 0.250000000    0.977423066   \n321 125.000000000 6.000000000   0.300000000 0.250000000    0.978861087   \n540 225.000000000 6.000000000   0.500000000 0.000000000    0.999712396   \n209  75.000000000 6.000000000   0.300000000 0.250000000    0.950819672   \n\n    valid_accuracy train_precision_score valid_precision_score  \\\n549    0.828637148           0.947010485           0.819112628   \n485    0.826912018           0.969815539           0.828235294   \n321    0.826336975           0.974662162           0.820483314   \n540    0.825186889           0.999431980           0.829964328   \n209    0.825186889           0.949872557           0.821552723   \n\n    train_recall_score valid_recall_score train_f1_score valid_f1_score  \\\n549        0.949701620        0.838183935    0.948354143    0.828538550   \n485        0.986075590        0.819557625    0.977877977    0.823873610   \n321        0.983802217        0.830034924    0.979210861    0.825231481   \n540        1.000000000        0.812572759    0.999715909    0.821176471   \n209        0.953111679        0.825378347    0.951489362    0.823461092   \n\n    train_log_loss valid_log_loss  \n549    1.807918339    5.918736344  \n485    0.779792098    5.978314224  \n321    0.730122533    5.998180108  \n540    0.009933729    6.037896703  \n209    1.698648699    6.037901761  ",
      "text/html": "<div>\n<style scoped>\n    .dataframe tbody tr th:only-of-type {\n        vertical-align: middle;\n    }\n\n    .dataframe tbody tr th {\n        vertical-align: top;\n    }\n\n    .dataframe thead th {\n        text-align: right;\n    }\n</style>\n<table border=\"1\" class=\"dataframe\">\n  <thead>\n    <tr style=\"text-align: right;\">\n      <th></th>\n      <th>n_estimators</th>\n      <th>max_depth</th>\n      <th>learning_rate</th>\n      <th>gamma</th>\n      <th>train_accuracy</th>\n      <th>valid_accuracy</th>\n      <th>train_precision_score</th>\n      <th>valid_precision_score</th>\n      <th>train_recall_score</th>\n      <th>valid_recall_score</th>\n      <th>train_f1_score</th>\n      <th>valid_f1_score</th>\n      <th>train_log_loss</th>\n      <th>valid_log_loss</th>\n    </tr>\n  </thead>\n  <tbody>\n    <tr>\n      <th>549</th>\n      <td>225.000000000</td>\n      <td>6.000000000</td>\n      <td>0.100000000</td>\n      <td>0.250000000</td>\n      <td>0.947656025</td>\n      <td>0.828637148</td>\n      <td>0.947010485</td>\n      <td>0.819112628</td>\n      <td>0.949701620</td>\n      <td>0.838183935</td>\n      <td>0.948354143</td>\n      <td>0.828538550</td>\n      <td>1.807918339</td>\n      <td>5.918736344</td>\n    </tr>\n    <tr>\n      <th>485</th>\n      <td>225.000000000</td>\n      <td>4.000000000</td>\n      <td>0.500000000</td>\n      <td>0.250000000</td>\n      <td>0.977423066</td>\n      <td>0.826912018</td>\n      <td>0.969815539</td>\n      <td>0.828235294</td>\n      <td>0.986075590</td>\n      <td>0.819557625</td>\n      <td>0.977877977</td>\n      <td>0.823873610</td>\n      <td>0.779792098</td>\n      <td>5.978314224</td>\n    </tr>\n    <tr>\n      <th>321</th>\n      <td>125.000000000</td>\n      <td>6.000000000</td>\n      <td>0.300000000</td>\n      <td>0.250000000</td>\n      <td>0.978861087</td>\n      <td>0.826336975</td>\n      <td>0.974662162</td>\n      <td>0.820483314</td>\n      <td>0.983802217</td>\n      <td>0.830034924</td>\n      <td>0.979210861</td>\n      <td>0.825231481</td>\n      <td>0.730122533</td>\n      <td>5.998180108</td>\n    </tr>\n    <tr>\n      <th>540</th>\n      <td>225.000000000</td>\n      <td>6.000000000</td>\n      <td>0.500000000</td>\n      <td>0.000000000</td>\n      <td>0.999712396</td>\n      <td>0.825186889</td>\n      <td>0.999431980</td>\n      <td>0.829964328</td>\n      <td>1.000000000</td>\n      <td>0.812572759</td>\n      <td>0.999715909</td>\n      <td>0.821176471</td>\n      <td>0.009933729</td>\n      <td>6.037896703</td>\n    </tr>\n    <tr>\n      <th>209</th>\n      <td>75.000000000</td>\n      <td>6.000000000</td>\n      <td>0.300000000</td>\n      <td>0.250000000</td>\n      <td>0.950819672</td>\n      <td>0.825186889</td>\n      <td>0.949872557</td>\n      <td>0.821552723</td>\n      <td>0.953111679</td>\n      <td>0.825378347</td>\n      <td>0.951489362</td>\n      <td>0.823461092</td>\n      <td>1.698648699</td>\n      <td>6.037901761</td>\n    </tr>\n  </tbody>\n</table>\n</div>"
     },
     "execution_count": 568,
     "metadata": {},
     "output_type": "execute_result"
    }
   ],
   "source": [
    "start_time = time.time()\n",
    "xgb_table = pd.DataFrame(columns = ['n_estimators', 'max_depth', 'learning_rate', 'gamma', 'train_accuracy', 'valid_accuracy', 'train_precision_score', 'valid_precision_score', 'train_recall_score', 'valid_recall_score', 'train_f1_score', 'valid_f1_score', 'train_log_loss', 'valid_log_loss'])\n",
    "\n",
    "for n_estimators in range(25, 226, 50):\n",
    "    for max_depth in range(3, 7):\n",
    "        for learning_rate in [1, 0.7, 0.5, 0.3, 0.1, 0.01, 0.05]:\n",
    "            for gamma in [0, 0.25, 0.5, 1]:\n",
    "                xgb = XGBClassifier(gamma = gamma, n_estimators = n_estimators, max_depth = max_depth, learning_rate = learning_rate, objective=\"binary:logistic\", use_label_encoder=False, random_state = 18).fit(X_train, y_train)\n",
    "\n",
    "                xgb_train_predicted = xgb.predict(X_train)\n",
    "                xgb_valid_predicted = xgb.predict(X_valid)\n",
    "\n",
    "                xgb_table = xgb_table.append(dict(zip(xgb_table.columns,[n_estimators, max_depth, learning_rate, gamma, accuracy_score(y_train, xgb_train_predicted), accuracy_score(y_valid, xgb_valid_predicted), precision_score(y_train, xgb_train_predicted), precision_score(y_valid, xgb_valid_predicted), recall_score(y_train, xgb_train_predicted), recall_score(y_valid, xgb_valid_predicted), f1_score(y_train, xgb_train_predicted), f1_score(y_valid, xgb_valid_predicted), log_loss(y_train, xgb_train_predicted), log_loss(y_valid, xgb_valid_predicted)])), ignore_index=True)\n",
    "\n",
    "print('XGB table time:', time.time() - start_time)\n",
    "xgb_table.sort_values(by = 'valid_accuracy', ascending=False).head(5)"
   ],
   "metadata": {
    "collapsed": false,
    "ExecuteTime": {
     "start_time": "2023-04-26T13:40:13.396781Z",
     "end_time": "2023-04-26T13:48:03.341384Z"
    }
   }
  },
  {
   "cell_type": "code",
   "execution_count": 570,
   "outputs": [],
   "source": [
    "def make_transported_boolean():\n",
    "    test_data.replace({'Transported': {1 : True, 0: False}}, inplace = True)"
   ],
   "metadata": {
    "collapsed": false,
    "ExecuteTime": {
     "start_time": "2023-04-26T13:49:45.231722Z",
     "end_time": "2023-04-26T13:49:45.271730Z"
    }
   }
  },
  {
   "cell_type": "code",
   "execution_count": 572,
   "outputs": [],
   "source": [
    "xgb_clf = XGBClassifier(gamma = 0.25, n_estimators = 225, max_depth = 6, learning_rate = 0.1, objective=\"binary:logistic\", use_label_encoder=False, random_state = 18).fit(X, y)\n",
    "\n",
    "test_data['Transported'] = xgb_clf.predict(test_data.drop(columns = ['PassengerId']))\n",
    "test_data.replace({'Transported': {1 : True, 0: False}}, inplace = True)\n",
    "test_data[['PassengerId', 'Transported']].to_csv('submission.csv',index=False)"
   ],
   "metadata": {
    "collapsed": false,
    "ExecuteTime": {
     "start_time": "2023-04-26T13:50:25.312564Z",
     "end_time": "2023-04-26T13:50:25.472533Z"
    }
   }
  }
 ],
 "metadata": {
  "kernelspec": {
   "display_name": "Python 3",
   "language": "python",
   "name": "python3"
  },
  "language_info": {
   "codemirror_mode": {
    "name": "ipython",
    "version": 2
   },
   "file_extension": ".py",
   "mimetype": "text/x-python",
   "name": "python",
   "nbconvert_exporter": "python",
   "pygments_lexer": "ipython2",
   "version": "2.7.6"
  }
 },
 "nbformat": 4,
 "nbformat_minor": 0
}
